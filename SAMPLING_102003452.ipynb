{
 "cells": [
  {
   "cell_type": "code",
   "execution_count": 1,
   "id": "ba35c581",
   "metadata": {},
   "outputs": [
    {
     "data": {
      "text/html": [
       "<div>\n",
       "<style scoped>\n",
       "    .dataframe tbody tr th:only-of-type {\n",
       "        vertical-align: middle;\n",
       "    }\n",
       "\n",
       "    .dataframe tbody tr th {\n",
       "        vertical-align: top;\n",
       "    }\n",
       "\n",
       "    .dataframe thead th {\n",
       "        text-align: right;\n",
       "    }\n",
       "</style>\n",
       "<table border=\"1\" class=\"dataframe\">\n",
       "  <thead>\n",
       "    <tr style=\"text-align: right;\">\n",
       "      <th></th>\n",
       "      <th>Time</th>\n",
       "      <th>V1</th>\n",
       "      <th>V2</th>\n",
       "      <th>V3</th>\n",
       "      <th>V4</th>\n",
       "      <th>V5</th>\n",
       "      <th>V6</th>\n",
       "      <th>V7</th>\n",
       "      <th>V8</th>\n",
       "      <th>V9</th>\n",
       "      <th>...</th>\n",
       "      <th>V21</th>\n",
       "      <th>V22</th>\n",
       "      <th>V23</th>\n",
       "      <th>V24</th>\n",
       "      <th>V25</th>\n",
       "      <th>V26</th>\n",
       "      <th>V27</th>\n",
       "      <th>V28</th>\n",
       "      <th>Amount</th>\n",
       "      <th>Class</th>\n",
       "    </tr>\n",
       "  </thead>\n",
       "  <tbody>\n",
       "    <tr>\n",
       "      <th>0</th>\n",
       "      <td>0</td>\n",
       "      <td>-1.359807</td>\n",
       "      <td>-0.072781</td>\n",
       "      <td>2.536347</td>\n",
       "      <td>1.378155</td>\n",
       "      <td>-0.338321</td>\n",
       "      <td>0.462388</td>\n",
       "      <td>0.239599</td>\n",
       "      <td>0.098698</td>\n",
       "      <td>0.363787</td>\n",
       "      <td>...</td>\n",
       "      <td>-0.018307</td>\n",
       "      <td>0.277838</td>\n",
       "      <td>-0.110474</td>\n",
       "      <td>0.066928</td>\n",
       "      <td>0.128539</td>\n",
       "      <td>-0.189115</td>\n",
       "      <td>0.133558</td>\n",
       "      <td>-0.021053</td>\n",
       "      <td>149.62</td>\n",
       "      <td>0</td>\n",
       "    </tr>\n",
       "    <tr>\n",
       "      <th>1</th>\n",
       "      <td>0</td>\n",
       "      <td>1.191857</td>\n",
       "      <td>0.266151</td>\n",
       "      <td>0.166480</td>\n",
       "      <td>0.448154</td>\n",
       "      <td>0.060018</td>\n",
       "      <td>-0.082361</td>\n",
       "      <td>-0.078803</td>\n",
       "      <td>0.085102</td>\n",
       "      <td>-0.255425</td>\n",
       "      <td>...</td>\n",
       "      <td>-0.225775</td>\n",
       "      <td>-0.638672</td>\n",
       "      <td>0.101288</td>\n",
       "      <td>-0.339846</td>\n",
       "      <td>0.167170</td>\n",
       "      <td>0.125895</td>\n",
       "      <td>-0.008983</td>\n",
       "      <td>0.014724</td>\n",
       "      <td>2.69</td>\n",
       "      <td>1</td>\n",
       "    </tr>\n",
       "    <tr>\n",
       "      <th>2</th>\n",
       "      <td>1</td>\n",
       "      <td>-1.358354</td>\n",
       "      <td>-1.340163</td>\n",
       "      <td>1.773209</td>\n",
       "      <td>0.379780</td>\n",
       "      <td>-0.503198</td>\n",
       "      <td>1.800499</td>\n",
       "      <td>0.791461</td>\n",
       "      <td>0.247676</td>\n",
       "      <td>-1.514654</td>\n",
       "      <td>...</td>\n",
       "      <td>0.247998</td>\n",
       "      <td>0.771679</td>\n",
       "      <td>0.909412</td>\n",
       "      <td>-0.689281</td>\n",
       "      <td>-0.327642</td>\n",
       "      <td>-0.139097</td>\n",
       "      <td>-0.055353</td>\n",
       "      <td>-0.059752</td>\n",
       "      <td>378.66</td>\n",
       "      <td>0</td>\n",
       "    </tr>\n",
       "    <tr>\n",
       "      <th>3</th>\n",
       "      <td>1</td>\n",
       "      <td>-0.966272</td>\n",
       "      <td>-0.185226</td>\n",
       "      <td>1.792993</td>\n",
       "      <td>-0.863291</td>\n",
       "      <td>-0.010309</td>\n",
       "      <td>1.247203</td>\n",
       "      <td>0.237609</td>\n",
       "      <td>0.377436</td>\n",
       "      <td>-1.387024</td>\n",
       "      <td>...</td>\n",
       "      <td>-0.108300</td>\n",
       "      <td>0.005274</td>\n",
       "      <td>-0.190321</td>\n",
       "      <td>-1.175575</td>\n",
       "      <td>0.647376</td>\n",
       "      <td>-0.221929</td>\n",
       "      <td>0.062723</td>\n",
       "      <td>0.061458</td>\n",
       "      <td>123.50</td>\n",
       "      <td>0</td>\n",
       "    </tr>\n",
       "    <tr>\n",
       "      <th>4</th>\n",
       "      <td>2</td>\n",
       "      <td>-1.158233</td>\n",
       "      <td>0.877737</td>\n",
       "      <td>1.548718</td>\n",
       "      <td>0.403034</td>\n",
       "      <td>-0.407193</td>\n",
       "      <td>0.095921</td>\n",
       "      <td>0.592941</td>\n",
       "      <td>-0.270533</td>\n",
       "      <td>0.817739</td>\n",
       "      <td>...</td>\n",
       "      <td>-0.009431</td>\n",
       "      <td>0.798278</td>\n",
       "      <td>-0.137458</td>\n",
       "      <td>0.141267</td>\n",
       "      <td>-0.206010</td>\n",
       "      <td>0.502292</td>\n",
       "      <td>0.219422</td>\n",
       "      <td>0.215153</td>\n",
       "      <td>69.99</td>\n",
       "      <td>0</td>\n",
       "    </tr>\n",
       "  </tbody>\n",
       "</table>\n",
       "<p>5 rows × 31 columns</p>\n",
       "</div>"
      ],
      "text/plain": [
       "   Time        V1        V2        V3        V4        V5        V6        V7  \\\n",
       "0     0 -1.359807 -0.072781  2.536347  1.378155 -0.338321  0.462388  0.239599   \n",
       "1     0  1.191857  0.266151  0.166480  0.448154  0.060018 -0.082361 -0.078803   \n",
       "2     1 -1.358354 -1.340163  1.773209  0.379780 -0.503198  1.800499  0.791461   \n",
       "3     1 -0.966272 -0.185226  1.792993 -0.863291 -0.010309  1.247203  0.237609   \n",
       "4     2 -1.158233  0.877737  1.548718  0.403034 -0.407193  0.095921  0.592941   \n",
       "\n",
       "         V8        V9  ...       V21       V22       V23       V24       V25  \\\n",
       "0  0.098698  0.363787  ... -0.018307  0.277838 -0.110474  0.066928  0.128539   \n",
       "1  0.085102 -0.255425  ... -0.225775 -0.638672  0.101288 -0.339846  0.167170   \n",
       "2  0.247676 -1.514654  ...  0.247998  0.771679  0.909412 -0.689281 -0.327642   \n",
       "3  0.377436 -1.387024  ... -0.108300  0.005274 -0.190321 -1.175575  0.647376   \n",
       "4 -0.270533  0.817739  ... -0.009431  0.798278 -0.137458  0.141267 -0.206010   \n",
       "\n",
       "        V26       V27       V28  Amount  Class  \n",
       "0 -0.189115  0.133558 -0.021053  149.62      0  \n",
       "1  0.125895 -0.008983  0.014724    2.69      1  \n",
       "2 -0.139097 -0.055353 -0.059752  378.66      0  \n",
       "3 -0.221929  0.062723  0.061458  123.50      0  \n",
       "4  0.502292  0.219422  0.215153   69.99      0  \n",
       "\n",
       "[5 rows x 31 columns]"
      ]
     },
     "execution_count": 1,
     "metadata": {},
     "output_type": "execute_result"
    }
   ],
   "source": [
    "import pandas as pd\n",
    "import numpy as np\n",
    "\n",
    "df=pd.read_csv(\"Creditcard_data.csv\")\n",
    "df.head()"
   ]
  },
  {
   "cell_type": "code",
   "execution_count": 2,
   "id": "8fc8c400",
   "metadata": {},
   "outputs": [
    {
     "data": {
      "text/plain": [
       "772"
      ]
     },
     "execution_count": 2,
     "metadata": {},
     "output_type": "execute_result"
    }
   ],
   "source": [
    "len(df)"
   ]
  },
  {
   "cell_type": "code",
   "execution_count": 3,
   "id": "91d3d333",
   "metadata": {},
   "outputs": [
    {
     "name": "stdout",
     "output_type": "stream",
     "text": [
      "Collecting imbalanced-learn\n",
      "  Downloading imbalanced_learn-0.10.1-py3-none-any.whl (226 kB)\n",
      "     -------------------------------------- 226.0/226.0 kB 1.2 MB/s eta 0:00:00\n",
      "Collecting joblib>=1.1.1\n",
      "  Downloading joblib-1.2.0-py3-none-any.whl (297 kB)\n",
      "     -------------------------------------- 298.0/298.0 kB 2.3 MB/s eta 0:00:00\n",
      "Requirement already satisfied: threadpoolctl>=2.0.0 in c:\\users\\a\\anaconda3\\lib\\site-packages (from imbalanced-learn) (2.2.0)\n",
      "Requirement already satisfied: scikit-learn>=1.0.2 in c:\\users\\a\\anaconda3\\lib\\site-packages (from imbalanced-learn) (1.0.2)\n",
      "Requirement already satisfied: scipy>=1.3.2 in c:\\users\\a\\anaconda3\\lib\\site-packages (from imbalanced-learn) (1.7.3)\n",
      "Requirement already satisfied: numpy>=1.17.3 in c:\\users\\a\\anaconda3\\lib\\site-packages (from imbalanced-learn) (1.21.5)\n",
      "Installing collected packages: joblib, imbalanced-learn\n",
      "  Attempting uninstall: joblib\n",
      "    Found existing installation: joblib 1.1.0\n",
      "    Uninstalling joblib-1.1.0:\n",
      "      Successfully uninstalled joblib-1.1.0\n",
      "Successfully installed imbalanced-learn-0.10.1 joblib-1.2.0\n"
     ]
    }
   ],
   "source": [
    "! pip install -U imbalanced-learn"
   ]
  },
  {
   "cell_type": "code",
   "execution_count": 4,
   "id": "4b927cad",
   "metadata": {},
   "outputs": [
    {
     "data": {
      "text/plain": [
       "0    763\n",
       "1      9\n",
       "Name: Class, dtype: int64"
      ]
     },
     "execution_count": 4,
     "metadata": {},
     "output_type": "execute_result"
    }
   ],
   "source": [
    "df['Class'].value_counts()"
   ]
  },
  {
   "cell_type": "code",
   "execution_count": 5,
   "id": "30237071",
   "metadata": {},
   "outputs": [],
   "source": [
    "x=df.drop(['Class'],axis=1)\n",
    "y=df['Class']"
   ]
  },
  {
   "cell_type": "markdown",
   "id": "a1ce6698",
   "metadata": {},
   "source": [
    "# Random Undersampling"
   ]
  },
  {
   "cell_type": "code",
   "execution_count": 7,
   "id": "78ea8443",
   "metadata": {},
   "outputs": [
    {
     "data": {
      "text/plain": [
       "0    9\n",
       "1    9\n",
       "Name: Class, dtype: int64"
      ]
     },
     "execution_count": 7,
     "metadata": {},
     "output_type": "execute_result"
    }
   ],
   "source": [
    "from imblearn.under_sampling import RandomUnderSampler\n",
    "rus = RandomUnderSampler(sampling_strategy=1)\n",
    "x_rus,y_rus = rus.fit_resample(x,y)\n",
    "y_rus.value_counts()"
   ]
  },
  {
   "cell_type": "markdown",
   "id": "213d83e3",
   "metadata": {},
   "source": [
    "# Random Oversampling"
   ]
  },
  {
   "cell_type": "code",
   "execution_count": 8,
   "id": "ff991965",
   "metadata": {},
   "outputs": [
    {
     "data": {
      "text/plain": [
       "0    763\n",
       "1    763\n",
       "Name: Class, dtype: int64"
      ]
     },
     "execution_count": 8,
     "metadata": {},
     "output_type": "execute_result"
    }
   ],
   "source": [
    "from imblearn.over_sampling import RandomOverSampler\n",
    "ros = RandomOverSampler(sampling_strategy=\"not majority\")\n",
    "x_ros,y_ros= ros.fit_resample(x,y)\n",
    "y_ros.value_counts()"
   ]
  },
  {
   "cell_type": "markdown",
   "id": "232cfd26",
   "metadata": {},
   "source": [
    "# Near Miss\n"
   ]
  },
  {
   "cell_type": "code",
   "execution_count": 9,
   "id": "c6e49d42",
   "metadata": {},
   "outputs": [
    {
     "data": {
      "text/plain": [
       "0    9\n",
       "1    9\n",
       "Name: Class, dtype: int64"
      ]
     },
     "execution_count": 9,
     "metadata": {},
     "output_type": "execute_result"
    }
   ],
   "source": [
    "from imblearn.under_sampling import NearMiss\n",
    "nm = NearMiss()\n",
    "x_nm, y_nm = nm.fit_resample(x, y)\n",
    "y_nm.value_counts()"
   ]
  },
  {
   "cell_type": "markdown",
   "id": "0b019345",
   "metadata": {},
   "source": [
    "# SMOTE\n"
   ]
  },
  {
   "cell_type": "code",
   "execution_count": 10,
   "id": "852d35e9",
   "metadata": {},
   "outputs": [
    {
     "data": {
      "text/plain": [
       "0    763\n",
       "1    763\n",
       "Name: Class, dtype: int64"
      ]
     },
     "execution_count": 10,
     "metadata": {},
     "output_type": "execute_result"
    }
   ],
   "source": [
    "from imblearn.over_sampling import SMOTE\n",
    "\n",
    "smote=SMOTE()\n",
    "x_smote, y_smote = smote.fit_resample(x,y)\n",
    "y_smote.value_counts()"
   ]
  },
  {
   "cell_type": "markdown",
   "id": "0b515592",
   "metadata": {},
   "source": [
    "# ADASYN\n"
   ]
  },
  {
   "cell_type": "code",
   "execution_count": 12,
   "id": "96c8813d",
   "metadata": {},
   "outputs": [
    {
     "data": {
      "text/plain": [
       "1    765\n",
       "0    763\n",
       "Name: Class, dtype: int64"
      ]
     },
     "execution_count": 12,
     "metadata": {},
     "output_type": "execute_result"
    }
   ],
   "source": [
    "from imblearn.over_sampling import ADASYN\n",
    "adasyn=ADASYN()\n",
    "x_adasyn, y_adasyn= adasyn.fit_resample(x,y)\n",
    "y_adasyn.value_counts()"
   ]
  },
  {
   "cell_type": "markdown",
   "id": "6d154cad",
   "metadata": {},
   "source": [
    "# Train test Split\n"
   ]
  },
  {
   "cell_type": "code",
   "execution_count": 17,
   "id": "3f50d7a5",
   "metadata": {},
   "outputs": [],
   "source": [
    "from sklearn.model_selection import train_test_split as tts\n",
    "\n",
    "#Random Undersampling\n",
    "x_rus_train, x_rus_test, y_rus_train, y_rus_test=tts(x_rus,y_rus,random_state=104, \n",
    "                                   test_size=0.25, \n",
    "                                   shuffle=True)\n",
    "#Random Oversampling\n",
    "x_ros_train, x_ros_test, y_ros_train, y_ros_test=tts(x_ros,y_ros,random_state=104, \n",
    "                                   test_size=0.25, \n",
    "                                   shuffle=True)\n",
    "#Near Miss\n",
    "x_nm_train, x_nm_test, y_nm_train, y_nm_test=tts(x_nm,y_nm,random_state=104, \n",
    "                                   test_size=0.25, \n",
    "                                   shuffle=True)\n",
    "#SMOTE\n",
    "x_smote_train, x_smote_test, y_smote_train, y_smote_test=tts(x_smote,y_smote,random_state=104, \n",
    "                                   test_size=0.25, \n",
    "                                   shuffle=True)\n",
    "#ADASYN\n",
    "x_adasyn_train, x_adasyn_test, y_adasyn_train, y_adasyn_test=tts(x_adasyn,y_adasyn,random_state=104, \n",
    "                                   test_size=0.25, \n",
    "                                   shuffle=True)"
   ]
  },
  {
   "cell_type": "markdown",
   "id": "57c49994",
   "metadata": {},
   "source": [
    "# Model1 : Logistic Regression"
   ]
  },
  {
   "cell_type": "code",
   "execution_count": 18,
   "id": "b6c5dd4d",
   "metadata": {},
   "outputs": [
    {
     "name": "stderr",
     "output_type": "stream",
     "text": [
      "C:\\Users\\a\\anaconda3\\lib\\site-packages\\sklearn\\linear_model\\_logistic.py:818: ConvergenceWarning: lbfgs failed to converge (status=1):\n",
      "STOP: TOTAL NO. of ITERATIONS REACHED LIMIT.\n",
      "\n",
      "Increase the number of iterations (max_iter) or scale the data as shown in:\n",
      "    https://scikit-learn.org/stable/modules/preprocessing.html\n",
      "Please also refer to the documentation for alternative solver options:\n",
      "    https://scikit-learn.org/stable/modules/linear_model.html#logistic-regression\n",
      "  extra_warning_msg=_LOGISTIC_SOLVER_CONVERGENCE_MSG,\n",
      "C:\\Users\\a\\anaconda3\\lib\\site-packages\\sklearn\\linear_model\\_logistic.py:818: ConvergenceWarning: lbfgs failed to converge (status=1):\n",
      "STOP: TOTAL NO. of ITERATIONS REACHED LIMIT.\n",
      "\n",
      "Increase the number of iterations (max_iter) or scale the data as shown in:\n",
      "    https://scikit-learn.org/stable/modules/preprocessing.html\n",
      "Please also refer to the documentation for alternative solver options:\n",
      "    https://scikit-learn.org/stable/modules/linear_model.html#logistic-regression\n",
      "  extra_warning_msg=_LOGISTIC_SOLVER_CONVERGENCE_MSG,\n",
      "C:\\Users\\a\\anaconda3\\lib\\site-packages\\sklearn\\linear_model\\_logistic.py:818: ConvergenceWarning: lbfgs failed to converge (status=1):\n",
      "STOP: TOTAL NO. of ITERATIONS REACHED LIMIT.\n",
      "\n",
      "Increase the number of iterations (max_iter) or scale the data as shown in:\n",
      "    https://scikit-learn.org/stable/modules/preprocessing.html\n",
      "Please also refer to the documentation for alternative solver options:\n",
      "    https://scikit-learn.org/stable/modules/linear_model.html#logistic-regression\n",
      "  extra_warning_msg=_LOGISTIC_SOLVER_CONVERGENCE_MSG,\n"
     ]
    },
    {
     "name": "stdout",
     "output_type": "stream",
     "text": [
      "0.4\n",
      "0.8979057591623036\n",
      "0.8\n",
      "0.9109947643979057\n",
      "0.9031413612565445\n"
     ]
    },
    {
     "name": "stderr",
     "output_type": "stream",
     "text": [
      "C:\\Users\\a\\anaconda3\\lib\\site-packages\\sklearn\\linear_model\\_logistic.py:818: ConvergenceWarning: lbfgs failed to converge (status=1):\n",
      "STOP: TOTAL NO. of ITERATIONS REACHED LIMIT.\n",
      "\n",
      "Increase the number of iterations (max_iter) or scale the data as shown in:\n",
      "    https://scikit-learn.org/stable/modules/preprocessing.html\n",
      "Please also refer to the documentation for alternative solver options:\n",
      "    https://scikit-learn.org/stable/modules/linear_model.html#logistic-regression\n",
      "  extra_warning_msg=_LOGISTIC_SOLVER_CONVERGENCE_MSG,\n",
      "C:\\Users\\a\\anaconda3\\lib\\site-packages\\sklearn\\linear_model\\_logistic.py:818: ConvergenceWarning: lbfgs failed to converge (status=1):\n",
      "STOP: TOTAL NO. of ITERATIONS REACHED LIMIT.\n",
      "\n",
      "Increase the number of iterations (max_iter) or scale the data as shown in:\n",
      "    https://scikit-learn.org/stable/modules/preprocessing.html\n",
      "Please also refer to the documentation for alternative solver options:\n",
      "    https://scikit-learn.org/stable/modules/linear_model.html#logistic-regression\n",
      "  extra_warning_msg=_LOGISTIC_SOLVER_CONVERGENCE_MSG,\n"
     ]
    }
   ],
   "source": [
    "from sklearn.linear_model import LogisticRegression\n",
    "from sklearn.metrics import accuracy_score as ac\n",
    "M1 = LogisticRegression()\n",
    "\n",
    "#Random Undersampling\n",
    "M1.fit(x_rus_train, y_rus_train)\n",
    "y_rus_pred = M1.predict(x_rus_test)\n",
    "ac_m1s1=ac(y_rus_test,y_rus_pred)\n",
    "print(ac_m1s1)\n",
    "\n",
    "#Random Oversampling\n",
    "M1.fit(x_ros_train, y_ros_train)\n",
    "y_ros_pred = M1.predict(x_ros_test)\n",
    "ac_m1s2=ac(y_ros_test,y_ros_pred)\n",
    "print(ac_m1s2)\n",
    "\n",
    "#Near Miss\n",
    "M1.fit(x_nm_train, y_nm_train)\n",
    "y_nm_pred = M1.predict(x_nm_test)\n",
    "ac_m1s3=ac(y_nm_test,y_nm_pred)\n",
    "print(ac_m1s3)\n",
    "\n",
    "#SMOTE\n",
    "M1.fit(x_smote_train, y_smote_train)\n",
    "y_smote_pred = M1.predict(x_smote_test)\n",
    "ac_m1s4=ac(y_smote_test,y_smote_pred)\n",
    "print(ac_m1s4)\n",
    "\n",
    "#ADASYN\n",
    "M1.fit(x_adasyn_train, y_adasyn_train)\n",
    "y_adasyn_pred = M1.predict(x_adasyn_test)\n",
    "ac_m1s5=ac(y_adasyn_test,y_adasyn_pred)\n",
    "print(ac_m1s5)\n"
   ]
  },
  {
   "cell_type": "markdown",
   "id": "1ae15bb0",
   "metadata": {},
   "source": [
    "# Model 2: Decision tree"
   ]
  },
  {
   "cell_type": "code",
   "execution_count": 19,
   "id": "deab56b4",
   "metadata": {},
   "outputs": [
    {
     "name": "stdout",
     "output_type": "stream",
     "text": [
      "0.8\n"
     ]
    }
   ],
   "source": [
    "from sklearn.tree import DecisionTreeClassifier\n",
    "M2 = DecisionTreeClassifier()\n",
    "\n",
    "#Random Undersampling\n",
    "M2.fit(x_rus_train, y_rus_train)\n",
    "y_rus_pred = M2.predict(x_rus_test)\n",
    "ac_m2s1=ac(y_rus_test,y_rus_pred)\n",
    "print(ac_m2s1)"
   ]
  },
  {
   "cell_type": "code",
   "execution_count": 20,
   "id": "f52d5563",
   "metadata": {},
   "outputs": [
    {
     "name": "stdout",
     "output_type": "stream",
     "text": [
      "0.9921465968586387\n"
     ]
    }
   ],
   "source": [
    "#Random Oversampling\n",
    "M2.fit(x_ros_train, y_ros_train)\n",
    "y_ros_pred = M2.predict(x_ros_test)\n",
    "ac_m2s2=ac(y_ros_test,y_ros_pred)\n",
    "print(ac_m2s2)"
   ]
  },
  {
   "cell_type": "code",
   "execution_count": 21,
   "id": "0634111e",
   "metadata": {},
   "outputs": [
    {
     "name": "stdout",
     "output_type": "stream",
     "text": [
      "0.6\n"
     ]
    }
   ],
   "source": [
    "#Near Miss\n",
    "M2.fit(x_nm_train, y_nm_train)\n",
    "y_nm_pred = M2.predict(x_nm_test)\n",
    "ac_m2s3=ac(y_nm_test,y_nm_pred)\n",
    "print(ac_m2s3)"
   ]
  },
  {
   "cell_type": "code",
   "execution_count": 22,
   "id": "f4c2608c",
   "metadata": {},
   "outputs": [
    {
     "name": "stdout",
     "output_type": "stream",
     "text": [
      "0.9842931937172775\n"
     ]
    }
   ],
   "source": [
    "#SMOTE\n",
    "M2.fit(x_smote_train, y_smote_train)\n",
    "y_smote_pred = M2.predict(x_smote_test)\n",
    "ac_m2s4=ac(y_smote_test,y_smote_pred)\n",
    "print(ac_m2s4)"
   ]
  },
  {
   "cell_type": "code",
   "execution_count": 23,
   "id": "c5b9f4e9",
   "metadata": {},
   "outputs": [
    {
     "name": "stdout",
     "output_type": "stream",
     "text": [
      "0.9869109947643979\n"
     ]
    }
   ],
   "source": [
    "#ADASYN\n",
    "M2.fit(x_adasyn_train, y_adasyn_train)\n",
    "y_adasyn_pred = M2.predict(x_adasyn_test)\n",
    "ac_m2s5=ac(y_adasyn_test,y_adasyn_pred)\n",
    "print(ac_m2s5)"
   ]
  },
  {
   "cell_type": "markdown",
   "id": "0c2627c4",
   "metadata": {},
   "source": [
    "# Model 3: Random Forest"
   ]
  },
  {
   "cell_type": "code",
   "execution_count": 24,
   "id": "c043d515",
   "metadata": {},
   "outputs": [
    {
     "name": "stdout",
     "output_type": "stream",
     "text": [
      "0.6\n"
     ]
    }
   ],
   "source": [
    "from sklearn.ensemble import RandomForestClassifier\n",
    "M3 = RandomForestClassifier()\n",
    "\n",
    "#Random Undersampling\n",
    "M3.fit(x_rus_train, y_rus_train)\n",
    "y_rus_pred = M3.predict(x_rus_test)\n",
    "ac_m3s1=ac(y_rus_test,y_rus_pred)\n",
    "print(ac_m3s1)"
   ]
  },
  {
   "cell_type": "code",
   "execution_count": 25,
   "id": "a1087006",
   "metadata": {},
   "outputs": [
    {
     "name": "stdout",
     "output_type": "stream",
     "text": [
      "1.0\n"
     ]
    }
   ],
   "source": [
    "#Random Oversampling\n",
    "M3.fit(x_ros_train, y_ros_train)\n",
    "y_ros_pred = M3.predict(x_ros_test)\n",
    "ac_m3s2=ac(y_ros_test,y_ros_pred)\n",
    "print(ac_m3s2)"
   ]
  },
  {
   "cell_type": "code",
   "execution_count": 26,
   "id": "69235969",
   "metadata": {},
   "outputs": [
    {
     "name": "stdout",
     "output_type": "stream",
     "text": [
      "0.4\n"
     ]
    }
   ],
   "source": [
    "#Near Miss\n",
    "M3.fit(x_nm_train, y_nm_train)\n",
    "y_nm_pred = M3.predict(x_nm_test)\n",
    "ac_m3s3=ac(y_nm_test,y_nm_pred)\n",
    "print(ac_m3s3)"
   ]
  },
  {
   "cell_type": "code",
   "execution_count": 27,
   "id": "e90ea1e2",
   "metadata": {},
   "outputs": [
    {
     "name": "stdout",
     "output_type": "stream",
     "text": [
      "0.9921465968586387\n"
     ]
    }
   ],
   "source": [
    "#SMOTE\n",
    "M3.fit(x_smote_train, y_smote_train)\n",
    "y_smote_pred = M3.predict(x_smote_test)\n",
    "ac_m3s4=ac(y_smote_test,y_smote_pred)\n",
    "print(ac_m3s4)"
   ]
  },
  {
   "cell_type": "code",
   "execution_count": 28,
   "id": "fffdd5af",
   "metadata": {},
   "outputs": [
    {
     "name": "stdout",
     "output_type": "stream",
     "text": [
      "1.0\n"
     ]
    }
   ],
   "source": [
    "#ADASYN\n",
    "M3.fit(x_adasyn_train, y_adasyn_train)\n",
    "y_adasyn_pred = M3.predict(x_adasyn_test)\n",
    "ac_m3s5=ac(y_adasyn_test,y_adasyn_pred)\n",
    "print(ac_m3s5)"
   ]
  },
  {
   "cell_type": "markdown",
   "id": "651d1ce9",
   "metadata": {},
   "source": [
    "# Model 4: K-Nearest Neighbour"
   ]
  },
  {
   "cell_type": "code",
   "execution_count": 29,
   "id": "da627105",
   "metadata": {},
   "outputs": [
    {
     "name": "stdout",
     "output_type": "stream",
     "text": [
      "0.8\n"
     ]
    }
   ],
   "source": [
    "from sklearn.neighbors import KNeighborsClassifier\n",
    "M4 = KNeighborsClassifier()\n",
    "\n",
    "#Random Undersampling\n",
    "M4.fit(x_rus_train, y_rus_train)\n",
    "y_rus_pred = M4.predict(x_rus_test)\n",
    "ac_m4s1=ac(y_rus_test,y_rus_pred)\n",
    "print(ac_m4s1)"
   ]
  },
  {
   "cell_type": "code",
   "execution_count": 30,
   "id": "91a6efc9",
   "metadata": {},
   "outputs": [
    {
     "name": "stdout",
     "output_type": "stream",
     "text": [
      "0.9842931937172775\n"
     ]
    }
   ],
   "source": [
    "#Random Oversampling\n",
    "M4.fit(x_ros_train, y_ros_train)\n",
    "y_ros_pred = M4.predict(x_ros_test)\n",
    "ac_m4s2=ac(y_ros_test,y_ros_pred)\n",
    "print(ac_m4s2)"
   ]
  },
  {
   "cell_type": "code",
   "execution_count": 31,
   "id": "00b27717",
   "metadata": {},
   "outputs": [
    {
     "name": "stdout",
     "output_type": "stream",
     "text": [
      "0.4\n"
     ]
    }
   ],
   "source": [
    "#Near Miss\n",
    "M4.fit(x_nm_train, y_nm_train)\n",
    "y_nm_pred = M4.predict(x_nm_test)\n",
    "ac_m4s3=ac(y_nm_test,y_nm_pred)\n",
    "print(ac_m4s3)"
   ]
  },
  {
   "cell_type": "code",
   "execution_count": 32,
   "id": "91581aa1",
   "metadata": {},
   "outputs": [
    {
     "name": "stdout",
     "output_type": "stream",
     "text": [
      "0.8403141361256544\n"
     ]
    }
   ],
   "source": [
    "#SMOTE\n",
    "M4.fit(x_smote_train, y_smote_train)\n",
    "y_smote_pred = M4.predict(x_smote_test)\n",
    "ac_m4s4=ac(y_smote_test,y_smote_pred)\n",
    "print(ac_m4s4)"
   ]
  },
  {
   "cell_type": "code",
   "execution_count": 33,
   "id": "3330cf5a",
   "metadata": {},
   "outputs": [
    {
     "name": "stdout",
     "output_type": "stream",
     "text": [
      "0.8272251308900523\n"
     ]
    }
   ],
   "source": [
    "#ADASYN\n",
    "M4.fit(x_adasyn_train, y_adasyn_train)\n",
    "y_adasyn_pred = M4.predict(x_adasyn_test)\n",
    "ac_m4s5=ac(y_adasyn_test,y_adasyn_pred)\n",
    "print(ac_m4s5)"
   ]
  },
  {
   "cell_type": "markdown",
   "id": "b9d61533",
   "metadata": {},
   "source": [
    "# Model 5: Naive Bayes"
   ]
  },
  {
   "cell_type": "code",
   "execution_count": 34,
   "id": "d498ca82",
   "metadata": {},
   "outputs": [
    {
     "name": "stdout",
     "output_type": "stream",
     "text": [
      "0.4\n"
     ]
    }
   ],
   "source": [
    "from sklearn.naive_bayes import GaussianNB\n",
    "M5 = GaussianNB()\n",
    "\n",
    "#Random Undersampling\n",
    "M5.fit(x_rus_train, y_rus_train)\n",
    "y_rus_pred = M5.predict(x_rus_test)\n",
    "ac_m5s1=ac(y_rus_test,y_rus_pred)\n",
    "print(ac_m5s1)"
   ]
  },
  {
   "cell_type": "code",
   "execution_count": 35,
   "id": "da126ed5",
   "metadata": {},
   "outputs": [
    {
     "name": "stdout",
     "output_type": "stream",
     "text": [
      "0.7617801047120419\n"
     ]
    }
   ],
   "source": [
    "#Random Oversampling\n",
    "M5.fit(x_ros_train, y_ros_train)\n",
    "y_ros_pred = M5.predict(x_ros_test)\n",
    "ac_m5s2=ac(y_ros_test,y_ros_pred)\n",
    "print(ac_m5s2)"
   ]
  },
  {
   "cell_type": "code",
   "execution_count": 36,
   "id": "03ef0a7e",
   "metadata": {},
   "outputs": [
    {
     "name": "stdout",
     "output_type": "stream",
     "text": [
      "0.4\n"
     ]
    }
   ],
   "source": [
    "#Near Miss\n",
    "M5.fit(x_nm_train, y_nm_train)\n",
    "y_nm_pred = M5.predict(x_nm_test)\n",
    "ac_m5s3=ac(y_nm_test,y_nm_pred)\n",
    "print(ac_m5s3)"
   ]
  },
  {
   "cell_type": "code",
   "execution_count": 37,
   "id": "cbbc19c0",
   "metadata": {},
   "outputs": [
    {
     "name": "stdout",
     "output_type": "stream",
     "text": [
      "0.7931937172774869\n"
     ]
    }
   ],
   "source": [
    "#SMOTE\n",
    "M5.fit(x_smote_train, y_smote_train)\n",
    "y_smote_pred = M5.predict(x_smote_test)\n",
    "ac_m5s4=ac(y_smote_test,y_smote_pred)\n",
    "print(ac_m5s4)"
   ]
  },
  {
   "cell_type": "code",
   "execution_count": 38,
   "id": "c32036a2",
   "metadata": {},
   "outputs": [
    {
     "name": "stdout",
     "output_type": "stream",
     "text": [
      "0.7931937172774869\n"
     ]
    }
   ],
   "source": [
    "#ADASYN\n",
    "M5.fit(x_adasyn_train, y_adasyn_train)\n",
    "y_adasyn_pred = M5.predict(x_adasyn_test)\n",
    "ac_m5s5=ac(y_adasyn_test,y_adasyn_pred)\n",
    "print(ac_m5s5)"
   ]
  },
  {
   "cell_type": "code",
   "execution_count": null,
   "id": "d0eb9e2c",
   "metadata": {},
   "outputs": [],
   "source": []
  }
 ],
 "metadata": {
  "kernelspec": {
   "display_name": "Python 3",
   "language": "python",
   "name": "python3"
  },
  "language_info": {
   "codemirror_mode": {
    "name": "ipython",
    "version": 3
   },
   "file_extension": ".py",
   "mimetype": "text/x-python",
   "name": "python",
   "nbconvert_exporter": "python",
   "pygments_lexer": "ipython3",
   "version": "3.7.13"
  }
 },
 "nbformat": 4,
 "nbformat_minor": 5
}
